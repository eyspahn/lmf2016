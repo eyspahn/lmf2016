{
 "cells": [
  {
   "cell_type": "code",
   "execution_count": 1,
   "metadata": {
    "collapsed": true
   },
   "outputs": [],
   "source": [
    "import numpy as np\n",
    "import pandas as pd\n",
    "import matplotlib.pyplot as plt\n",
    "from textblob import TextBlob\n",
    "import tweepy\n",
    "import seaborn as sns\n",
    "plt.style.use('ggplot')\n",
    "%matplotlib inline"
   ]
  },
  {
   "cell_type": "markdown",
   "metadata": {},
   "source": [
    "## A quick investigation into twitter sentiment analysis"
   ]
  },
  {
   "cell_type": "markdown",
   "metadata": {},
   "source": [
    "#### Need to have consumer key & secret from https://apps.twitter.com "
   ]
  },
  {
   "cell_type": "code",
   "execution_count": 2,
   "metadata": {
    "collapsed": true
   },
   "outputs": [],
   "source": [
    "# read consumer keys from where I saved it\n",
    "# avoids including key & secret in text here\n",
    "with open('twitterkeys.txt') as f:\n",
    "    consumerKey = f.readline().strip()\n",
    "    consumerSecret = f.readline().strip()\n",
    "    "
   ]
  },
  {
   "cell_type": "code",
   "execution_count": 3,
   "metadata": {
    "collapsed": false
   },
   "outputs": [],
   "source": [
    "# Create an authentication using the given key and secret\n",
    "auth = tweepy.OAuthHandler(consumer_key=consumerKey, \n",
    "    consumer_secret=consumerSecret)\n",
    "\n",
    "# Connect to the Twitter API using the authentication\n",
    "api = tweepy.API(auth)\n"
   ]
  },
  {
   "cell_type": "code",
   "execution_count": 4,
   "metadata": {
    "collapsed": true
   },
   "outputs": [],
   "source": [
    "# Perform a basic search query for '#data' -- grabs 15 entries by default\n",
    "result = api.search(q='%23data')"
   ]
  },
  {
   "cell_type": "code",
   "execution_count": 5,
   "metadata": {
    "collapsed": false,
    "scrolled": true
   },
   "outputs": [
    {
     "data": {
      "text/plain": [
       "['__class__',\n",
       " '__delattr__',\n",
       " '__dict__',\n",
       " '__doc__',\n",
       " '__eq__',\n",
       " '__format__',\n",
       " '__getattribute__',\n",
       " '__getstate__',\n",
       " '__hash__',\n",
       " '__init__',\n",
       " '__module__',\n",
       " '__ne__',\n",
       " '__new__',\n",
       " '__reduce__',\n",
       " '__reduce_ex__',\n",
       " '__repr__',\n",
       " '__setattr__',\n",
       " '__sizeof__',\n",
       " '__str__',\n",
       " '__subclasshook__',\n",
       " '__weakref__',\n",
       " '_api',\n",
       " '_json',\n",
       " 'author',\n",
       " 'contributors',\n",
       " 'coordinates',\n",
       " 'created_at',\n",
       " 'destroy',\n",
       " 'entities',\n",
       " 'favorite',\n",
       " 'favorite_count',\n",
       " 'favorited',\n",
       " 'geo',\n",
       " 'id',\n",
       " 'id_str',\n",
       " 'in_reply_to_screen_name',\n",
       " 'in_reply_to_status_id',\n",
       " 'in_reply_to_status_id_str',\n",
       " 'in_reply_to_user_id',\n",
       " 'in_reply_to_user_id_str',\n",
       " 'is_quote_status',\n",
       " 'lang',\n",
       " 'metadata',\n",
       " 'parse',\n",
       " 'parse_list',\n",
       " 'place',\n",
       " 'possibly_sensitive',\n",
       " 'retweet',\n",
       " 'retweet_count',\n",
       " 'retweeted',\n",
       " 'retweets',\n",
       " 'source',\n",
       " 'source_url',\n",
       " 'text',\n",
       " 'truncated',\n",
       " 'user']"
      ]
     },
     "execution_count": 5,
     "metadata": {},
     "output_type": "execute_result"
    }
   ],
   "source": [
    "dir(result[0])  # to show the attributes of result[0]"
   ]
  },
  {
   "cell_type": "code",
   "execution_count": 7,
   "metadata": {
    "collapsed": false,
    "scrolled": true
   },
   "outputs": [
    {
     "name": "stdout",
     "output_type": "stream",
     "text": [
      "author : User(follow_request_sent=None, has_extended_profile=False, profile_use_background_image=False, _json={u'follow_request_sent': None, u'has_extended_profile': False, u'profile_use_background_image': False, u'default_profile_image': False, u'id': 754880124563038208, u'profile_background_image_url_https': u'https://abs.twimg.com/images/themes/theme1/bg.png', u'verified': False, u'profile_text_color': u'000000', u'profile_image_url_https': u'https://pbs.twimg.com/profile_images/754894062759530500/W7Q1c3Wm_normal.jpg', u'profile_sidebar_fill_color': u'000000', u'entities': {u'url': {u'urls': [{u'url': u'https://t.co/uUS9I1lUM4', u'indices': [0, 23], u'expanded_url': u'http://4unow.net/freegirts', u'display_url': u'4unow.net/freegirts'}]}, u'description': {u'urls': []}}, u'followers_count': 567, u'profile_sidebar_border_color': u'000000', u'id_str': u'754880124563038208', u'profile_background_color': u'000000', u'listed_count': 170, u'is_translation_enabled': False, u'utc_offset': -25200, u'statuses_count': 386, u'description': u'bringing people a better understanding of a particular field you are interested #data #data #bigdata #SQL', u'friends_count': 282, u'location': u'United States', u'profile_link_color': u'981CEB', u'profile_image_url': u'http://pbs.twimg.com/profile_images/754894062759530500/W7Q1c3Wm_normal.jpg', u'following': None, u'geo_enabled': False, u'profile_banner_url': u'https://pbs.twimg.com/profile_banners/754880124563038208/1468815296', u'profile_background_image_url': u'http://abs.twimg.com/images/themes/theme1/bg.png', u'screen_name': u'Data3se', u'lang': u'en-gb', u'profile_background_tile': False, u'favourites_count': 1, u'name': u'Database', u'notifications': None, u'url': u'https://t.co/uUS9I1lUM4', u'created_at': u'Mon Jul 18 03:27:01 +0000 2016', u'contributors_enabled': False, u'time_zone': u'Pacific Time (US & Canada)', u'protected': False, u'default_profile': False, u'is_translator': False}, time_zone=u'Pacific Time (US & Canada)', id=754880124563038208, _api=<tweepy.api.API object at 0x10c444290>, verified=False, profile_text_color=u'000000', profile_image_url_https=u'https://pbs.twimg.com/profile_images/754894062759530500/W7Q1c3Wm_normal.jpg', profile_sidebar_fill_color=u'000000', is_translator=False, geo_enabled=False, entities={u'url': {u'urls': [{u'url': u'https://t.co/uUS9I1lUM4', u'indices': [0, 23], u'expanded_url': u'http://4unow.net/freegirts', u'display_url': u'4unow.net/freegirts'}]}, u'description': {u'urls': []}}, followers_count=567, protected=False, id_str=u'754880124563038208', default_profile_image=False, listed_count=170, lang=u'en-gb', utc_offset=-25200, statuses_count=386, description=u'bringing people a better understanding of a particular field you are interested #data #data #bigdata #SQL', friends_count=282, profile_link_color=u'981CEB', profile_image_url=u'http://pbs.twimg.com/profile_images/754894062759530500/W7Q1c3Wm_normal.jpg', notifications=None, profile_background_image_url_https=u'https://abs.twimg.com/images/themes/theme1/bg.png', profile_background_color=u'000000', profile_banner_url=u'https://pbs.twimg.com/profile_banners/754880124563038208/1468815296', profile_background_image_url=u'http://abs.twimg.com/images/themes/theme1/bg.png', name=u'Database', is_translation_enabled=False, profile_background_tile=False, favourites_count=1, screen_name=u'Data3se', url=u'https://t.co/uUS9I1lUM4', created_at=datetime.datetime(2016, 7, 18, 3, 27, 1), contributors_enabled=False, location=u'United States', profile_sidebar_border_color=u'000000', default_profile=False, following=False)\n",
      "\n",
      "contributors : None\n",
      "\n",
      "coordinates : None\n",
      "\n",
      "created_at : 2016-09-10 04:06:09\n",
      "\n",
      "destroy : <bound method Status.destroy of Status(contributors=None, truncated=False, text=u'#data #seo The Best Infographics of 2015 https://t.co/bt9IsTLlM9', is_quote_status=False, in_reply_to_status_id=None, id=774458916860231680, favorite_count=0, _api=<tweepy.api.API object at 0x10c444290>, author=User(follow_request_sent=None, has_extended_profile=False, profile_use_background_image=False, _json={u'follow_request_sent': None, u'has_extended_profile': False, u'profile_use_background_image': False, u'default_profile_image': False, u'id': 754880124563038208, u'profile_background_image_url_https': u'https://abs.twimg.com/images/themes/theme1/bg.png', u'verified': False, u'profile_text_color': u'000000', u'profile_image_url_https': u'https://pbs.twimg.com/profile_images/754894062759530500/W7Q1c3Wm_normal.jpg', u'profile_sidebar_fill_color': u'000000', u'entities': {u'url': {u'urls': [{u'url': u'https://t.co/uUS9I1lUM4', u'indices': [0, 23], u'expanded_url': u'http://4unow.net/freegirts', u'display_url': u'4unow.net/freegirts'}]}, u'description': {u'urls': []}}, u'followers_count': 567, u'profile_sidebar_border_color': u'000000', u'id_str': u'754880124563038208', u'profile_background_color': u'000000', u'listed_count': 170, u'is_translation_enabled': False, u'utc_offset': -25200, u'statuses_count': 386, u'description': u'bringing people a better understanding of a particular field you are interested #data #data #bigdata #SQL', u'friends_count': 282, u'location': u'United States', u'profile_link_color': u'981CEB', u'profile_image_url': u'http://pbs.twimg.com/profile_images/754894062759530500/W7Q1c3Wm_normal.jpg', u'following': None, u'geo_enabled': False, u'profile_banner_url': u'https://pbs.twimg.com/profile_banners/754880124563038208/1468815296', u'profile_background_image_url': u'http://abs.twimg.com/images/themes/theme1/bg.png', u'screen_name': u'Data3se', u'lang': u'en-gb', u'profile_background_tile': False, u'favourites_count': 1, u'name': u'Database', u'notifications': None, u'url': u'https://t.co/uUS9I1lUM4', u'created_at': u'Mon Jul 18 03:27:01 +0000 2016', u'contributors_enabled': False, u'time_zone': u'Pacific Time (US & Canada)', u'protected': False, u'default_profile': False, u'is_translator': False}, time_zone=u'Pacific Time (US & Canada)', id=754880124563038208, _api=<tweepy.api.API object at 0x10c444290>, verified=False, profile_text_color=u'000000', profile_image_url_https=u'https://pbs.twimg.com/profile_images/754894062759530500/W7Q1c3Wm_normal.jpg', profile_sidebar_fill_color=u'000000', is_translator=False, geo_enabled=False, entities={u'url': {u'urls': [{u'url': u'https://t.co/uUS9I1lUM4', u'indices': [0, 23], u'expanded_url': u'http://4unow.net/freegirts', u'display_url': u'4unow.net/freegirts'}]}, u'description': {u'urls': []}}, followers_count=567, protected=False, id_str=u'754880124563038208', default_profile_image=False, listed_count=170, lang=u'en-gb', utc_offset=-25200, statuses_count=386, description=u'bringing people a better understanding of a particular field you are interested #data #data #bigdata #SQL', friends_count=282, profile_link_color=u'981CEB', profile_image_url=u'http://pbs.twimg.com/profile_images/754894062759530500/W7Q1c3Wm_normal.jpg', notifications=None, profile_background_image_url_https=u'https://abs.twimg.com/images/themes/theme1/bg.png', profile_background_color=u'000000', profile_banner_url=u'https://pbs.twimg.com/profile_banners/754880124563038208/1468815296', profile_background_image_url=u'http://abs.twimg.com/images/themes/theme1/bg.png', name=u'Database', is_translation_enabled=False, profile_background_tile=False, favourites_count=1, screen_name=u'Data3se', url=u'https://t.co/uUS9I1lUM4', created_at=datetime.datetime(2016, 7, 18, 3, 27, 1), contributors_enabled=False, location=u'United States', profile_sidebar_border_color=u'000000', default_profile=False, following=False), _json={u'contributors': None, u'truncated': False, u'text': u'#data #seo The Best Infographics of 2015 https://t.co/bt9IsTLlM9', u'is_quote_status': False, u'in_reply_to_status_id': None, u'id': 774458916860231680, u'favorite_count': 0, u'entities': {u'symbols': [], u'user_mentions': [], u'hashtags': [{u'indices': [0, 5], u'text': u'data'}, {u'indices': [6, 10], u'text': u'seo'}], u'urls': [{u'url': u'https://t.co/bt9IsTLlM9', u'indices': [41, 64], u'expanded_url': u'http://buff.ly/1OxRyPo', u'display_url': u'buff.ly/1OxRyPo'}]}, u'retweeted': False, u'coordinates': None, u'source': u'<a href=\"http://ifttt.com\" rel=\"nofollow\">IFTTT</a>', u'in_reply_to_screen_name': None, u'in_reply_to_user_id': None, u'retweet_count': 0, u'id_str': u'774458916860231680', u'favorited': False, u'user': {u'follow_request_sent': None, u'has_extended_profile': False, u'profile_use_background_image': False, u'default_profile_image': False, u'id': 754880124563038208, u'profile_background_image_url_https': u'https://abs.twimg.com/images/themes/theme1/bg.png', u'verified': False, u'profile_text_color': u'000000', u'profile_image_url_https': u'https://pbs.twimg.com/profile_images/754894062759530500/W7Q1c3Wm_normal.jpg', u'profile_sidebar_fill_color': u'000000', u'entities': {u'url': {u'urls': [{u'url': u'https://t.co/uUS9I1lUM4', u'indices': [0, 23], u'expanded_url': u'http://4unow.net/freegirts', u'display_url': u'4unow.net/freegirts'}]}, u'description': {u'urls': []}}, u'followers_count': 567, u'profile_sidebar_border_color': u'000000', u'id_str': u'754880124563038208', u'profile_background_color': u'000000', u'listed_count': 170, u'is_translation_enabled': False, u'utc_offset': -25200, u'statuses_count': 386, u'description': u'bringing people a better understanding of a particular field you are interested #data #data #bigdata #SQL', u'friends_count': 282, u'location': u'United States', u'profile_link_color': u'981CEB', u'profile_image_url': u'http://pbs.twimg.com/profile_images/754894062759530500/W7Q1c3Wm_normal.jpg', u'following': None, u'geo_enabled': False, u'profile_banner_url': u'https://pbs.twimg.com/profile_banners/754880124563038208/1468815296', u'profile_background_image_url': u'http://abs.twimg.com/images/themes/theme1/bg.png', u'screen_name': u'Data3se', u'lang': u'en-gb', u'profile_background_tile': False, u'favourites_count': 1, u'name': u'Database', u'notifications': None, u'url': u'https://t.co/uUS9I1lUM4', u'created_at': u'Mon Jul 18 03:27:01 +0000 2016', u'contributors_enabled': False, u'time_zone': u'Pacific Time (US & Canada)', u'protected': False, u'default_profile': False, u'is_translator': False}, u'geo': None, u'in_reply_to_user_id_str': None, u'possibly_sensitive': False, u'lang': u'en', u'created_at': u'Sat Sep 10 04:06:09 +0000 2016', u'in_reply_to_status_id_str': None, u'place': None, u'metadata': {u'iso_language_code': u'en', u'result_type': u'recent'}}, coordinates=None, entities={u'symbols': [], u'user_mentions': [], u'hashtags': [{u'indices': [0, 5], u'text': u'data'}, {u'indices': [6, 10], u'text': u'seo'}], u'urls': [{u'url': u'https://t.co/bt9IsTLlM9', u'indices': [41, 64], u'expanded_url': u'http://buff.ly/1OxRyPo', u'display_url': u'buff.ly/1OxRyPo'}]}, in_reply_to_screen_name=None, id_str=u'774458916860231680', retweet_count=0, in_reply_to_user_id=None, favorited=False, source_url=u'http://ifttt.com', user=User(follow_request_sent=None, has_extended_profile=False, profile_use_background_image=False, _json={u'follow_request_sent': None, u'has_extended_profile': False, u'profile_use_background_image': False, u'default_profile_image': False, u'id': 754880124563038208, u'profile_background_image_url_https': u'https://abs.twimg.com/images/themes/theme1/bg.png', u'verified': False, u'profile_text_color': u'000000', u'profile_image_url_https': u'https://pbs.twimg.com/profile_images/754894062759530500/W7Q1c3Wm_normal.jpg', u'profile_sidebar_fill_color': u'000000', u'entities': {u'url': {u'urls': [{u'url': u'https://t.co/uUS9I1lUM4', u'indices': [0, 23], u'expanded_url': u'http://4unow.net/freegirts', u'display_url': u'4unow.net/freegirts'}]}, u'description': {u'urls': []}}, u'followers_count': 567, u'profile_sidebar_border_color': u'000000', u'id_str': u'754880124563038208', u'profile_background_color': u'000000', u'listed_count': 170, u'is_translation_enabled': False, u'utc_offset': -25200, u'statuses_count': 386, u'description': u'bringing people a better understanding of a particular field you are interested #data #data #bigdata #SQL', u'friends_count': 282, u'location': u'United States', u'profile_link_color': u'981CEB', u'profile_image_url': u'http://pbs.twimg.com/profile_images/754894062759530500/W7Q1c3Wm_normal.jpg', u'following': None, u'geo_enabled': False, u'profile_banner_url': u'https://pbs.twimg.com/profile_banners/754880124563038208/1468815296', u'profile_background_image_url': u'http://abs.twimg.com/images/themes/theme1/bg.png', u'screen_name': u'Data3se', u'lang': u'en-gb', u'profile_background_tile': False, u'favourites_count': 1, u'name': u'Database', u'notifications': None, u'url': u'https://t.co/uUS9I1lUM4', u'created_at': u'Mon Jul 18 03:27:01 +0000 2016', u'contributors_enabled': False, u'time_zone': u'Pacific Time (US & Canada)', u'protected': False, u'default_profile': False, u'is_translator': False}, time_zone=u'Pacific Time (US & Canada)', id=754880124563038208, _api=<tweepy.api.API object at 0x10c444290>, verified=False, profile_text_color=u'000000', profile_image_url_https=u'https://pbs.twimg.com/profile_images/754894062759530500/W7Q1c3Wm_normal.jpg', profile_sidebar_fill_color=u'000000', is_translator=False, geo_enabled=False, entities={u'url': {u'urls': [{u'url': u'https://t.co/uUS9I1lUM4', u'indices': [0, 23], u'expanded_url': u'http://4unow.net/freegirts', u'display_url': u'4unow.net/freegirts'}]}, u'description': {u'urls': []}}, followers_count=567, protected=False, id_str=u'754880124563038208', default_profile_image=False, listed_count=170, lang=u'en-gb', utc_offset=-25200, statuses_count=386, description=u'bringing people a better understanding of a particular field you are interested #data #data #bigdata #SQL', friends_count=282, profile_link_color=u'981CEB', profile_image_url=u'http://pbs.twimg.com/profile_images/754894062759530500/W7Q1c3Wm_normal.jpg', notifications=None, profile_background_image_url_https=u'https://abs.twimg.com/images/themes/theme1/bg.png', profile_background_color=u'000000', profile_banner_url=u'https://pbs.twimg.com/profile_banners/754880124563038208/1468815296', profile_background_image_url=u'http://abs.twimg.com/images/themes/theme1/bg.png', name=u'Database', is_translation_enabled=False, profile_background_tile=False, favourites_count=1, screen_name=u'Data3se', url=u'https://t.co/uUS9I1lUM4', created_at=datetime.datetime(2016, 7, 18, 3, 27, 1), contributors_enabled=False, location=u'United States', profile_sidebar_border_color=u'000000', default_profile=False, following=False), geo=None, in_reply_to_user_id_str=None, possibly_sensitive=False, lang=u'en', created_at=datetime.datetime(2016, 9, 10, 4, 6, 9), in_reply_to_status_id_str=None, place=None, source=u'IFTTT', retweeted=False, metadata={u'iso_language_code': u'en', u'result_type': u'recent'})>\n",
      "\n",
      "entities : {u'symbols': [], u'user_mentions': [], u'hashtags': [{u'indices': [0, 5], u'text': u'data'}, {u'indices': [6, 10], u'text': u'seo'}], u'urls': [{u'url': u'https://t.co/bt9IsTLlM9', u'indices': [41, 64], u'expanded_url': u'http://buff.ly/1OxRyPo', u'display_url': u'buff.ly/1OxRyPo'}]}\n",
      "\n",
      "favorite : <bound method Status.favorite of Status(contributors=None, truncated=False, text=u'#data #seo The Best Infographics of 2015 https://t.co/bt9IsTLlM9', is_quote_status=False, in_reply_to_status_id=None, id=774458916860231680, favorite_count=0, _api=<tweepy.api.API object at 0x10c444290>, author=User(follow_request_sent=None, has_extended_profile=False, profile_use_background_image=False, _json={u'follow_request_sent': None, u'has_extended_profile': False, u'profile_use_background_image': False, u'default_profile_image': False, u'id': 754880124563038208, u'profile_background_image_url_https': u'https://abs.twimg.com/images/themes/theme1/bg.png', u'verified': False, u'profile_text_color': u'000000', u'profile_image_url_https': u'https://pbs.twimg.com/profile_images/754894062759530500/W7Q1c3Wm_normal.jpg', u'profile_sidebar_fill_color': u'000000', u'entities': {u'url': {u'urls': [{u'url': u'https://t.co/uUS9I1lUM4', u'indices': [0, 23], u'expanded_url': u'http://4unow.net/freegirts', u'display_url': u'4unow.net/freegirts'}]}, u'description': {u'urls': []}}, u'followers_count': 567, u'profile_sidebar_border_color': u'000000', u'id_str': u'754880124563038208', u'profile_background_color': u'000000', u'listed_count': 170, u'is_translation_enabled': False, u'utc_offset': -25200, u'statuses_count': 386, u'description': u'bringing people a better understanding of a particular field you are interested #data #data #bigdata #SQL', u'friends_count': 282, u'location': u'United States', u'profile_link_color': u'981CEB', u'profile_image_url': u'http://pbs.twimg.com/profile_images/754894062759530500/W7Q1c3Wm_normal.jpg', u'following': None, u'geo_enabled': False, u'profile_banner_url': u'https://pbs.twimg.com/profile_banners/754880124563038208/1468815296', u'profile_background_image_url': u'http://abs.twimg.com/images/themes/theme1/bg.png', u'screen_name': u'Data3se', u'lang': u'en-gb', u'profile_background_tile': False, u'favourites_count': 1, u'name': u'Database', u'notifications': None, u'url': u'https://t.co/uUS9I1lUM4', u'created_at': u'Mon Jul 18 03:27:01 +0000 2016', u'contributors_enabled': False, u'time_zone': u'Pacific Time (US & Canada)', u'protected': False, u'default_profile': False, u'is_translator': False}, time_zone=u'Pacific Time (US & Canada)', id=754880124563038208, _api=<tweepy.api.API object at 0x10c444290>, verified=False, profile_text_color=u'000000', profile_image_url_https=u'https://pbs.twimg.com/profile_images/754894062759530500/W7Q1c3Wm_normal.jpg', profile_sidebar_fill_color=u'000000', is_translator=False, geo_enabled=False, entities={u'url': {u'urls': [{u'url': u'https://t.co/uUS9I1lUM4', u'indices': [0, 23], u'expanded_url': u'http://4unow.net/freegirts', u'display_url': u'4unow.net/freegirts'}]}, u'description': {u'urls': []}}, followers_count=567, protected=False, id_str=u'754880124563038208', default_profile_image=False, listed_count=170, lang=u'en-gb', utc_offset=-25200, statuses_count=386, description=u'bringing people a better understanding of a particular field you are interested #data #data #bigdata #SQL', friends_count=282, profile_link_color=u'981CEB', profile_image_url=u'http://pbs.twimg.com/profile_images/754894062759530500/W7Q1c3Wm_normal.jpg', notifications=None, profile_background_image_url_https=u'https://abs.twimg.com/images/themes/theme1/bg.png', profile_background_color=u'000000', profile_banner_url=u'https://pbs.twimg.com/profile_banners/754880124563038208/1468815296', profile_background_image_url=u'http://abs.twimg.com/images/themes/theme1/bg.png', name=u'Database', is_translation_enabled=False, profile_background_tile=False, favourites_count=1, screen_name=u'Data3se', url=u'https://t.co/uUS9I1lUM4', created_at=datetime.datetime(2016, 7, 18, 3, 27, 1), contributors_enabled=False, location=u'United States', profile_sidebar_border_color=u'000000', default_profile=False, following=False), _json={u'contributors': None, u'truncated': False, u'text': u'#data #seo The Best Infographics of 2015 https://t.co/bt9IsTLlM9', u'is_quote_status': False, u'in_reply_to_status_id': None, u'id': 774458916860231680, u'favorite_count': 0, u'entities': {u'symbols': [], u'user_mentions': [], u'hashtags': [{u'indices': [0, 5], u'text': u'data'}, {u'indices': [6, 10], u'text': u'seo'}], u'urls': [{u'url': u'https://t.co/bt9IsTLlM9', u'indices': [41, 64], u'expanded_url': u'http://buff.ly/1OxRyPo', u'display_url': u'buff.ly/1OxRyPo'}]}, u'retweeted': False, u'coordinates': None, u'source': u'<a href=\"http://ifttt.com\" rel=\"nofollow\">IFTTT</a>', u'in_reply_to_screen_name': None, u'in_reply_to_user_id': None, u'retweet_count': 0, u'id_str': u'774458916860231680', u'favorited': False, u'user': {u'follow_request_sent': None, u'has_extended_profile': False, u'profile_use_background_image': False, u'default_profile_image': False, u'id': 754880124563038208, u'profile_background_image_url_https': u'https://abs.twimg.com/images/themes/theme1/bg.png', u'verified': False, u'profile_text_color': u'000000', u'profile_image_url_https': u'https://pbs.twimg.com/profile_images/754894062759530500/W7Q1c3Wm_normal.jpg', u'profile_sidebar_fill_color': u'000000', u'entities': {u'url': {u'urls': [{u'url': u'https://t.co/uUS9I1lUM4', u'indices': [0, 23], u'expanded_url': u'http://4unow.net/freegirts', u'display_url': u'4unow.net/freegirts'}]}, u'description': {u'urls': []}}, u'followers_count': 567, u'profile_sidebar_border_color': u'000000', u'id_str': u'754880124563038208', u'profile_background_color': u'000000', u'listed_count': 170, u'is_translation_enabled': False, u'utc_offset': -25200, u'statuses_count': 386, u'description': u'bringing people a better understanding of a particular field you are interested #data #data #bigdata #SQL', u'friends_count': 282, u'location': u'United States', u'profile_link_color': u'981CEB', u'profile_image_url': u'http://pbs.twimg.com/profile_images/754894062759530500/W7Q1c3Wm_normal.jpg', u'following': None, u'geo_enabled': False, u'profile_banner_url': u'https://pbs.twimg.com/profile_banners/754880124563038208/1468815296', u'profile_background_image_url': u'http://abs.twimg.com/images/themes/theme1/bg.png', u'screen_name': u'Data3se', u'lang': u'en-gb', u'profile_background_tile': False, u'favourites_count': 1, u'name': u'Database', u'notifications': None, u'url': u'https://t.co/uUS9I1lUM4', u'created_at': u'Mon Jul 18 03:27:01 +0000 2016', u'contributors_enabled': False, u'time_zone': u'Pacific Time (US & Canada)', u'protected': False, u'default_profile': False, u'is_translator': False}, u'geo': None, u'in_reply_to_user_id_str': None, u'possibly_sensitive': False, u'lang': u'en', u'created_at': u'Sat Sep 10 04:06:09 +0000 2016', u'in_reply_to_status_id_str': None, u'place': None, u'metadata': {u'iso_language_code': u'en', u'result_type': u'recent'}}, coordinates=None, entities={u'symbols': [], u'user_mentions': [], u'hashtags': [{u'indices': [0, 5], u'text': u'data'}, {u'indices': [6, 10], u'text': u'seo'}], u'urls': [{u'url': u'https://t.co/bt9IsTLlM9', u'indices': [41, 64], u'expanded_url': u'http://buff.ly/1OxRyPo', u'display_url': u'buff.ly/1OxRyPo'}]}, in_reply_to_screen_name=None, id_str=u'774458916860231680', retweet_count=0, in_reply_to_user_id=None, favorited=False, source_url=u'http://ifttt.com', user=User(follow_request_sent=None, has_extended_profile=False, profile_use_background_image=False, _json={u'follow_request_sent': None, u'has_extended_profile': False, u'profile_use_background_image': False, u'default_profile_image': False, u'id': 754880124563038208, u'profile_background_image_url_https': u'https://abs.twimg.com/images/themes/theme1/bg.png', u'verified': False, u'profile_text_color': u'000000', u'profile_image_url_https': u'https://pbs.twimg.com/profile_images/754894062759530500/W7Q1c3Wm_normal.jpg', u'profile_sidebar_fill_color': u'000000', u'entities': {u'url': {u'urls': [{u'url': u'https://t.co/uUS9I1lUM4', u'indices': [0, 23], u'expanded_url': u'http://4unow.net/freegirts', u'display_url': u'4unow.net/freegirts'}]}, u'description': {u'urls': []}}, u'followers_count': 567, u'profile_sidebar_border_color': u'000000', u'id_str': u'754880124563038208', u'profile_background_color': u'000000', u'listed_count': 170, u'is_translation_enabled': False, u'utc_offset': -25200, u'statuses_count': 386, u'description': u'bringing people a better understanding of a particular field you are interested #data #data #bigdata #SQL', u'friends_count': 282, u'location': u'United States', u'profile_link_color': u'981CEB', u'profile_image_url': u'http://pbs.twimg.com/profile_images/754894062759530500/W7Q1c3Wm_normal.jpg', u'following': None, u'geo_enabled': False, u'profile_banner_url': u'https://pbs.twimg.com/profile_banners/754880124563038208/1468815296', u'profile_background_image_url': u'http://abs.twimg.com/images/themes/theme1/bg.png', u'screen_name': u'Data3se', u'lang': u'en-gb', u'profile_background_tile': False, u'favourites_count': 1, u'name': u'Database', u'notifications': None, u'url': u'https://t.co/uUS9I1lUM4', u'created_at': u'Mon Jul 18 03:27:01 +0000 2016', u'contributors_enabled': False, u'time_zone': u'Pacific Time (US & Canada)', u'protected': False, u'default_profile': False, u'is_translator': False}, time_zone=u'Pacific Time (US & Canada)', id=754880124563038208, _api=<tweepy.api.API object at 0x10c444290>, verified=False, profile_text_color=u'000000', profile_image_url_https=u'https://pbs.twimg.com/profile_images/754894062759530500/W7Q1c3Wm_normal.jpg', profile_sidebar_fill_color=u'000000', is_translator=False, geo_enabled=False, entities={u'url': {u'urls': [{u'url': u'https://t.co/uUS9I1lUM4', u'indices': [0, 23], u'expanded_url': u'http://4unow.net/freegirts', u'display_url': u'4unow.net/freegirts'}]}, u'description': {u'urls': []}}, followers_count=567, protected=False, id_str=u'754880124563038208', default_profile_image=False, listed_count=170, lang=u'en-gb', utc_offset=-25200, statuses_count=386, description=u'bringing people a better understanding of a particular field you are interested #data #data #bigdata #SQL', friends_count=282, profile_link_color=u'981CEB', profile_image_url=u'http://pbs.twimg.com/profile_images/754894062759530500/W7Q1c3Wm_normal.jpg', notifications=None, profile_background_image_url_https=u'https://abs.twimg.com/images/themes/theme1/bg.png', profile_background_color=u'000000', profile_banner_url=u'https://pbs.twimg.com/profile_banners/754880124563038208/1468815296', profile_background_image_url=u'http://abs.twimg.com/images/themes/theme1/bg.png', name=u'Database', is_translation_enabled=False, profile_background_tile=False, favourites_count=1, screen_name=u'Data3se', url=u'https://t.co/uUS9I1lUM4', created_at=datetime.datetime(2016, 7, 18, 3, 27, 1), contributors_enabled=False, location=u'United States', profile_sidebar_border_color=u'000000', default_profile=False, following=False), geo=None, in_reply_to_user_id_str=None, possibly_sensitive=False, lang=u'en', created_at=datetime.datetime(2016, 9, 10, 4, 6, 9), in_reply_to_status_id_str=None, place=None, source=u'IFTTT', retweeted=False, metadata={u'iso_language_code': u'en', u'result_type': u'recent'})>\n",
      "\n",
      "favorite_count : 0\n",
      "\n",
      "favorited : False\n",
      "\n",
      "geo : None\n",
      "\n",
      "id : 774458916860231680\n",
      "\n",
      "id_str : 774458916860231680\n",
      "\n",
      "in_reply_to_screen_name : None\n",
      "\n",
      "in_reply_to_status_id : None\n",
      "\n",
      "in_reply_to_status_id_str : None\n",
      "\n",
      "in_reply_to_user_id : None\n",
      "\n",
      "in_reply_to_user_id_str : None\n",
      "\n",
      "is_quote_status : False\n",
      "\n",
      "lang : en\n",
      "\n",
      "metadata : {u'iso_language_code': u'en', u'result_type': u'recent'}\n",
      "\n",
      "parse : <bound method type.parse of <class 'tweepy.models.Status'>>\n",
      "\n",
      "parse_list : <bound method type.parse_list of <class 'tweepy.models.Status'>>\n",
      "\n",
      "place : None\n",
      "\n",
      "possibly_sensitive : False\n",
      "\n",
      "retweet : <bound method Status.retweet of Status(contributors=None, truncated=False, text=u'#data #seo The Best Infographics of 2015 https://t.co/bt9IsTLlM9', is_quote_status=False, in_reply_to_status_id=None, id=774458916860231680, favorite_count=0, _api=<tweepy.api.API object at 0x10c444290>, author=User(follow_request_sent=None, has_extended_profile=False, profile_use_background_image=False, _json={u'follow_request_sent': None, u'has_extended_profile': False, u'profile_use_background_image': False, u'default_profile_image': False, u'id': 754880124563038208, u'profile_background_image_url_https': u'https://abs.twimg.com/images/themes/theme1/bg.png', u'verified': False, u'profile_text_color': u'000000', u'profile_image_url_https': u'https://pbs.twimg.com/profile_images/754894062759530500/W7Q1c3Wm_normal.jpg', u'profile_sidebar_fill_color': u'000000', u'entities': {u'url': {u'urls': [{u'url': u'https://t.co/uUS9I1lUM4', u'indices': [0, 23], u'expanded_url': u'http://4unow.net/freegirts', u'display_url': u'4unow.net/freegirts'}]}, u'description': {u'urls': []}}, u'followers_count': 567, u'profile_sidebar_border_color': u'000000', u'id_str': u'754880124563038208', u'profile_background_color': u'000000', u'listed_count': 170, u'is_translation_enabled': False, u'utc_offset': -25200, u'statuses_count': 386, u'description': u'bringing people a better understanding of a particular field you are interested #data #data #bigdata #SQL', u'friends_count': 282, u'location': u'United States', u'profile_link_color': u'981CEB', u'profile_image_url': u'http://pbs.twimg.com/profile_images/754894062759530500/W7Q1c3Wm_normal.jpg', u'following': None, u'geo_enabled': False, u'profile_banner_url': u'https://pbs.twimg.com/profile_banners/754880124563038208/1468815296', u'profile_background_image_url': u'http://abs.twimg.com/images/themes/theme1/bg.png', u'screen_name': u'Data3se', u'lang': u'en-gb', u'profile_background_tile': False, u'favourites_count': 1, u'name': u'Database', u'notifications': None, u'url': u'https://t.co/uUS9I1lUM4', u'created_at': u'Mon Jul 18 03:27:01 +0000 2016', u'contributors_enabled': False, u'time_zone': u'Pacific Time (US & Canada)', u'protected': False, u'default_profile': False, u'is_translator': False}, time_zone=u'Pacific Time (US & Canada)', id=754880124563038208, _api=<tweepy.api.API object at 0x10c444290>, verified=False, profile_text_color=u'000000', profile_image_url_https=u'https://pbs.twimg.com/profile_images/754894062759530500/W7Q1c3Wm_normal.jpg', profile_sidebar_fill_color=u'000000', is_translator=False, geo_enabled=False, entities={u'url': {u'urls': [{u'url': u'https://t.co/uUS9I1lUM4', u'indices': [0, 23], u'expanded_url': u'http://4unow.net/freegirts', u'display_url': u'4unow.net/freegirts'}]}, u'description': {u'urls': []}}, followers_count=567, protected=False, id_str=u'754880124563038208', default_profile_image=False, listed_count=170, lang=u'en-gb', utc_offset=-25200, statuses_count=386, description=u'bringing people a better understanding of a particular field you are interested #data #data #bigdata #SQL', friends_count=282, profile_link_color=u'981CEB', profile_image_url=u'http://pbs.twimg.com/profile_images/754894062759530500/W7Q1c3Wm_normal.jpg', notifications=None, profile_background_image_url_https=u'https://abs.twimg.com/images/themes/theme1/bg.png', profile_background_color=u'000000', profile_banner_url=u'https://pbs.twimg.com/profile_banners/754880124563038208/1468815296', profile_background_image_url=u'http://abs.twimg.com/images/themes/theme1/bg.png', name=u'Database', is_translation_enabled=False, profile_background_tile=False, favourites_count=1, screen_name=u'Data3se', url=u'https://t.co/uUS9I1lUM4', created_at=datetime.datetime(2016, 7, 18, 3, 27, 1), contributors_enabled=False, location=u'United States', profile_sidebar_border_color=u'000000', default_profile=False, following=False), _json={u'contributors': None, u'truncated': False, u'text': u'#data #seo The Best Infographics of 2015 https://t.co/bt9IsTLlM9', u'is_quote_status': False, u'in_reply_to_status_id': None, u'id': 774458916860231680, u'favorite_count': 0, u'entities': {u'symbols': [], u'user_mentions': [], u'hashtags': [{u'indices': [0, 5], u'text': u'data'}, {u'indices': [6, 10], u'text': u'seo'}], u'urls': [{u'url': u'https://t.co/bt9IsTLlM9', u'indices': [41, 64], u'expanded_url': u'http://buff.ly/1OxRyPo', u'display_url': u'buff.ly/1OxRyPo'}]}, u'retweeted': False, u'coordinates': None, u'source': u'<a href=\"http://ifttt.com\" rel=\"nofollow\">IFTTT</a>', u'in_reply_to_screen_name': None, u'in_reply_to_user_id': None, u'retweet_count': 0, u'id_str': u'774458916860231680', u'favorited': False, u'user': {u'follow_request_sent': None, u'has_extended_profile': False, u'profile_use_background_image': False, u'default_profile_image': False, u'id': 754880124563038208, u'profile_background_image_url_https': u'https://abs.twimg.com/images/themes/theme1/bg.png', u'verified': False, u'profile_text_color': u'000000', u'profile_image_url_https': u'https://pbs.twimg.com/profile_images/754894062759530500/W7Q1c3Wm_normal.jpg', u'profile_sidebar_fill_color': u'000000', u'entities': {u'url': {u'urls': [{u'url': u'https://t.co/uUS9I1lUM4', u'indices': [0, 23], u'expanded_url': u'http://4unow.net/freegirts', u'display_url': u'4unow.net/freegirts'}]}, u'description': {u'urls': []}}, u'followers_count': 567, u'profile_sidebar_border_color': u'000000', u'id_str': u'754880124563038208', u'profile_background_color': u'000000', u'listed_count': 170, u'is_translation_enabled': False, u'utc_offset': -25200, u'statuses_count': 386, u'description': u'bringing people a better understanding of a particular field you are interested #data #data #bigdata #SQL', u'friends_count': 282, u'location': u'United States', u'profile_link_color': u'981CEB', u'profile_image_url': u'http://pbs.twimg.com/profile_images/754894062759530500/W7Q1c3Wm_normal.jpg', u'following': None, u'geo_enabled': False, u'profile_banner_url': u'https://pbs.twimg.com/profile_banners/754880124563038208/1468815296', u'profile_background_image_url': u'http://abs.twimg.com/images/themes/theme1/bg.png', u'screen_name': u'Data3se', u'lang': u'en-gb', u'profile_background_tile': False, u'favourites_count': 1, u'name': u'Database', u'notifications': None, u'url': u'https://t.co/uUS9I1lUM4', u'created_at': u'Mon Jul 18 03:27:01 +0000 2016', u'contributors_enabled': False, u'time_zone': u'Pacific Time (US & Canada)', u'protected': False, u'default_profile': False, u'is_translator': False}, u'geo': None, u'in_reply_to_user_id_str': None, u'possibly_sensitive': False, u'lang': u'en', u'created_at': u'Sat Sep 10 04:06:09 +0000 2016', u'in_reply_to_status_id_str': None, u'place': None, u'metadata': {u'iso_language_code': u'en', u'result_type': u'recent'}}, coordinates=None, entities={u'symbols': [], u'user_mentions': [], u'hashtags': [{u'indices': [0, 5], u'text': u'data'}, {u'indices': [6, 10], u'text': u'seo'}], u'urls': [{u'url': u'https://t.co/bt9IsTLlM9', u'indices': [41, 64], u'expanded_url': u'http://buff.ly/1OxRyPo', u'display_url': u'buff.ly/1OxRyPo'}]}, in_reply_to_screen_name=None, id_str=u'774458916860231680', retweet_count=0, in_reply_to_user_id=None, favorited=False, source_url=u'http://ifttt.com', user=User(follow_request_sent=None, has_extended_profile=False, profile_use_background_image=False, _json={u'follow_request_sent': None, u'has_extended_profile': False, u'profile_use_background_image': False, u'default_profile_image': False, u'id': 754880124563038208, u'profile_background_image_url_https': u'https://abs.twimg.com/images/themes/theme1/bg.png', u'verified': False, u'profile_text_color': u'000000', u'profile_image_url_https': u'https://pbs.twimg.com/profile_images/754894062759530500/W7Q1c3Wm_normal.jpg', u'profile_sidebar_fill_color': u'000000', u'entities': {u'url': {u'urls': [{u'url': u'https://t.co/uUS9I1lUM4', u'indices': [0, 23], u'expanded_url': u'http://4unow.net/freegirts', u'display_url': u'4unow.net/freegirts'}]}, u'description': {u'urls': []}}, u'followers_count': 567, u'profile_sidebar_border_color': u'000000', u'id_str': u'754880124563038208', u'profile_background_color': u'000000', u'listed_count': 170, u'is_translation_enabled': False, u'utc_offset': -25200, u'statuses_count': 386, u'description': u'bringing people a better understanding of a particular field you are interested #data #data #bigdata #SQL', u'friends_count': 282, u'location': u'United States', u'profile_link_color': u'981CEB', u'profile_image_url': u'http://pbs.twimg.com/profile_images/754894062759530500/W7Q1c3Wm_normal.jpg', u'following': None, u'geo_enabled': False, u'profile_banner_url': u'https://pbs.twimg.com/profile_banners/754880124563038208/1468815296', u'profile_background_image_url': u'http://abs.twimg.com/images/themes/theme1/bg.png', u'screen_name': u'Data3se', u'lang': u'en-gb', u'profile_background_tile': False, u'favourites_count': 1, u'name': u'Database', u'notifications': None, u'url': u'https://t.co/uUS9I1lUM4', u'created_at': u'Mon Jul 18 03:27:01 +0000 2016', u'contributors_enabled': False, u'time_zone': u'Pacific Time (US & Canada)', u'protected': False, u'default_profile': False, u'is_translator': False}, time_zone=u'Pacific Time (US & Canada)', id=754880124563038208, _api=<tweepy.api.API object at 0x10c444290>, verified=False, profile_text_color=u'000000', profile_image_url_https=u'https://pbs.twimg.com/profile_images/754894062759530500/W7Q1c3Wm_normal.jpg', profile_sidebar_fill_color=u'000000', is_translator=False, geo_enabled=False, entities={u'url': {u'urls': [{u'url': u'https://t.co/uUS9I1lUM4', u'indices': [0, 23], u'expanded_url': u'http://4unow.net/freegirts', u'display_url': u'4unow.net/freegirts'}]}, u'description': {u'urls': []}}, followers_count=567, protected=False, id_str=u'754880124563038208', default_profile_image=False, listed_count=170, lang=u'en-gb', utc_offset=-25200, statuses_count=386, description=u'bringing people a better understanding of a particular field you are interested #data #data #bigdata #SQL', friends_count=282, profile_link_color=u'981CEB', profile_image_url=u'http://pbs.twimg.com/profile_images/754894062759530500/W7Q1c3Wm_normal.jpg', notifications=None, profile_background_image_url_https=u'https://abs.twimg.com/images/themes/theme1/bg.png', profile_background_color=u'000000', profile_banner_url=u'https://pbs.twimg.com/profile_banners/754880124563038208/1468815296', profile_background_image_url=u'http://abs.twimg.com/images/themes/theme1/bg.png', name=u'Database', is_translation_enabled=False, profile_background_tile=False, favourites_count=1, screen_name=u'Data3se', url=u'https://t.co/uUS9I1lUM4', created_at=datetime.datetime(2016, 7, 18, 3, 27, 1), contributors_enabled=False, location=u'United States', profile_sidebar_border_color=u'000000', default_profile=False, following=False), geo=None, in_reply_to_user_id_str=None, possibly_sensitive=False, lang=u'en', created_at=datetime.datetime(2016, 9, 10, 4, 6, 9), in_reply_to_status_id_str=None, place=None, source=u'IFTTT', retweeted=False, metadata={u'iso_language_code': u'en', u'result_type': u'recent'})>\n",
      "\n",
      "retweet_count : 0\n",
      "\n",
      "retweeted : False\n",
      "\n",
      "retweets : <bound method Status.retweets of Status(contributors=None, truncated=False, text=u'#data #seo The Best Infographics of 2015 https://t.co/bt9IsTLlM9', is_quote_status=False, in_reply_to_status_id=None, id=774458916860231680, favorite_count=0, _api=<tweepy.api.API object at 0x10c444290>, author=User(follow_request_sent=None, has_extended_profile=False, profile_use_background_image=False, _json={u'follow_request_sent': None, u'has_extended_profile': False, u'profile_use_background_image': False, u'default_profile_image': False, u'id': 754880124563038208, u'profile_background_image_url_https': u'https://abs.twimg.com/images/themes/theme1/bg.png', u'verified': False, u'profile_text_color': u'000000', u'profile_image_url_https': u'https://pbs.twimg.com/profile_images/754894062759530500/W7Q1c3Wm_normal.jpg', u'profile_sidebar_fill_color': u'000000', u'entities': {u'url': {u'urls': [{u'url': u'https://t.co/uUS9I1lUM4', u'indices': [0, 23], u'expanded_url': u'http://4unow.net/freegirts', u'display_url': u'4unow.net/freegirts'}]}, u'description': {u'urls': []}}, u'followers_count': 567, u'profile_sidebar_border_color': u'000000', u'id_str': u'754880124563038208', u'profile_background_color': u'000000', u'listed_count': 170, u'is_translation_enabled': False, u'utc_offset': -25200, u'statuses_count': 386, u'description': u'bringing people a better understanding of a particular field you are interested #data #data #bigdata #SQL', u'friends_count': 282, u'location': u'United States', u'profile_link_color': u'981CEB', u'profile_image_url': u'http://pbs.twimg.com/profile_images/754894062759530500/W7Q1c3Wm_normal.jpg', u'following': None, u'geo_enabled': False, u'profile_banner_url': u'https://pbs.twimg.com/profile_banners/754880124563038208/1468815296', u'profile_background_image_url': u'http://abs.twimg.com/images/themes/theme1/bg.png', u'screen_name': u'Data3se', u'lang': u'en-gb', u'profile_background_tile': False, u'favourites_count': 1, u'name': u'Database', u'notifications': None, u'url': u'https://t.co/uUS9I1lUM4', u'created_at': u'Mon Jul 18 03:27:01 +0000 2016', u'contributors_enabled': False, u'time_zone': u'Pacific Time (US & Canada)', u'protected': False, u'default_profile': False, u'is_translator': False}, time_zone=u'Pacific Time (US & Canada)', id=754880124563038208, _api=<tweepy.api.API object at 0x10c444290>, verified=False, profile_text_color=u'000000', profile_image_url_https=u'https://pbs.twimg.com/profile_images/754894062759530500/W7Q1c3Wm_normal.jpg', profile_sidebar_fill_color=u'000000', is_translator=False, geo_enabled=False, entities={u'url': {u'urls': [{u'url': u'https://t.co/uUS9I1lUM4', u'indices': [0, 23], u'expanded_url': u'http://4unow.net/freegirts', u'display_url': u'4unow.net/freegirts'}]}, u'description': {u'urls': []}}, followers_count=567, protected=False, id_str=u'754880124563038208', default_profile_image=False, listed_count=170, lang=u'en-gb', utc_offset=-25200, statuses_count=386, description=u'bringing people a better understanding of a particular field you are interested #data #data #bigdata #SQL', friends_count=282, profile_link_color=u'981CEB', profile_image_url=u'http://pbs.twimg.com/profile_images/754894062759530500/W7Q1c3Wm_normal.jpg', notifications=None, profile_background_image_url_https=u'https://abs.twimg.com/images/themes/theme1/bg.png', profile_background_color=u'000000', profile_banner_url=u'https://pbs.twimg.com/profile_banners/754880124563038208/1468815296', profile_background_image_url=u'http://abs.twimg.com/images/themes/theme1/bg.png', name=u'Database', is_translation_enabled=False, profile_background_tile=False, favourites_count=1, screen_name=u'Data3se', url=u'https://t.co/uUS9I1lUM4', created_at=datetime.datetime(2016, 7, 18, 3, 27, 1), contributors_enabled=False, location=u'United States', profile_sidebar_border_color=u'000000', default_profile=False, following=False), _json={u'contributors': None, u'truncated': False, u'text': u'#data #seo The Best Infographics of 2015 https://t.co/bt9IsTLlM9', u'is_quote_status': False, u'in_reply_to_status_id': None, u'id': 774458916860231680, u'favorite_count': 0, u'entities': {u'symbols': [], u'user_mentions': [], u'hashtags': [{u'indices': [0, 5], u'text': u'data'}, {u'indices': [6, 10], u'text': u'seo'}], u'urls': [{u'url': u'https://t.co/bt9IsTLlM9', u'indices': [41, 64], u'expanded_url': u'http://buff.ly/1OxRyPo', u'display_url': u'buff.ly/1OxRyPo'}]}, u'retweeted': False, u'coordinates': None, u'source': u'<a href=\"http://ifttt.com\" rel=\"nofollow\">IFTTT</a>', u'in_reply_to_screen_name': None, u'in_reply_to_user_id': None, u'retweet_count': 0, u'id_str': u'774458916860231680', u'favorited': False, u'user': {u'follow_request_sent': None, u'has_extended_profile': False, u'profile_use_background_image': False, u'default_profile_image': False, u'id': 754880124563038208, u'profile_background_image_url_https': u'https://abs.twimg.com/images/themes/theme1/bg.png', u'verified': False, u'profile_text_color': u'000000', u'profile_image_url_https': u'https://pbs.twimg.com/profile_images/754894062759530500/W7Q1c3Wm_normal.jpg', u'profile_sidebar_fill_color': u'000000', u'entities': {u'url': {u'urls': [{u'url': u'https://t.co/uUS9I1lUM4', u'indices': [0, 23], u'expanded_url': u'http://4unow.net/freegirts', u'display_url': u'4unow.net/freegirts'}]}, u'description': {u'urls': []}}, u'followers_count': 567, u'profile_sidebar_border_color': u'000000', u'id_str': u'754880124563038208', u'profile_background_color': u'000000', u'listed_count': 170, u'is_translation_enabled': False, u'utc_offset': -25200, u'statuses_count': 386, u'description': u'bringing people a better understanding of a particular field you are interested #data #data #bigdata #SQL', u'friends_count': 282, u'location': u'United States', u'profile_link_color': u'981CEB', u'profile_image_url': u'http://pbs.twimg.com/profile_images/754894062759530500/W7Q1c3Wm_normal.jpg', u'following': None, u'geo_enabled': False, u'profile_banner_url': u'https://pbs.twimg.com/profile_banners/754880124563038208/1468815296', u'profile_background_image_url': u'http://abs.twimg.com/images/themes/theme1/bg.png', u'screen_name': u'Data3se', u'lang': u'en-gb', u'profile_background_tile': False, u'favourites_count': 1, u'name': u'Database', u'notifications': None, u'url': u'https://t.co/uUS9I1lUM4', u'created_at': u'Mon Jul 18 03:27:01 +0000 2016', u'contributors_enabled': False, u'time_zone': u'Pacific Time (US & Canada)', u'protected': False, u'default_profile': False, u'is_translator': False}, u'geo': None, u'in_reply_to_user_id_str': None, u'possibly_sensitive': False, u'lang': u'en', u'created_at': u'Sat Sep 10 04:06:09 +0000 2016', u'in_reply_to_status_id_str': None, u'place': None, u'metadata': {u'iso_language_code': u'en', u'result_type': u'recent'}}, coordinates=None, entities={u'symbols': [], u'user_mentions': [], u'hashtags': [{u'indices': [0, 5], u'text': u'data'}, {u'indices': [6, 10], u'text': u'seo'}], u'urls': [{u'url': u'https://t.co/bt9IsTLlM9', u'indices': [41, 64], u'expanded_url': u'http://buff.ly/1OxRyPo', u'display_url': u'buff.ly/1OxRyPo'}]}, in_reply_to_screen_name=None, id_str=u'774458916860231680', retweet_count=0, in_reply_to_user_id=None, favorited=False, source_url=u'http://ifttt.com', user=User(follow_request_sent=None, has_extended_profile=False, profile_use_background_image=False, _json={u'follow_request_sent': None, u'has_extended_profile': False, u'profile_use_background_image': False, u'default_profile_image': False, u'id': 754880124563038208, u'profile_background_image_url_https': u'https://abs.twimg.com/images/themes/theme1/bg.png', u'verified': False, u'profile_text_color': u'000000', u'profile_image_url_https': u'https://pbs.twimg.com/profile_images/754894062759530500/W7Q1c3Wm_normal.jpg', u'profile_sidebar_fill_color': u'000000', u'entities': {u'url': {u'urls': [{u'url': u'https://t.co/uUS9I1lUM4', u'indices': [0, 23], u'expanded_url': u'http://4unow.net/freegirts', u'display_url': u'4unow.net/freegirts'}]}, u'description': {u'urls': []}}, u'followers_count': 567, u'profile_sidebar_border_color': u'000000', u'id_str': u'754880124563038208', u'profile_background_color': u'000000', u'listed_count': 170, u'is_translation_enabled': False, u'utc_offset': -25200, u'statuses_count': 386, u'description': u'bringing people a better understanding of a particular field you are interested #data #data #bigdata #SQL', u'friends_count': 282, u'location': u'United States', u'profile_link_color': u'981CEB', u'profile_image_url': u'http://pbs.twimg.com/profile_images/754894062759530500/W7Q1c3Wm_normal.jpg', u'following': None, u'geo_enabled': False, u'profile_banner_url': u'https://pbs.twimg.com/profile_banners/754880124563038208/1468815296', u'profile_background_image_url': u'http://abs.twimg.com/images/themes/theme1/bg.png', u'screen_name': u'Data3se', u'lang': u'en-gb', u'profile_background_tile': False, u'favourites_count': 1, u'name': u'Database', u'notifications': None, u'url': u'https://t.co/uUS9I1lUM4', u'created_at': u'Mon Jul 18 03:27:01 +0000 2016', u'contributors_enabled': False, u'time_zone': u'Pacific Time (US & Canada)', u'protected': False, u'default_profile': False, u'is_translator': False}, time_zone=u'Pacific Time (US & Canada)', id=754880124563038208, _api=<tweepy.api.API object at 0x10c444290>, verified=False, profile_text_color=u'000000', profile_image_url_https=u'https://pbs.twimg.com/profile_images/754894062759530500/W7Q1c3Wm_normal.jpg', profile_sidebar_fill_color=u'000000', is_translator=False, geo_enabled=False, entities={u'url': {u'urls': [{u'url': u'https://t.co/uUS9I1lUM4', u'indices': [0, 23], u'expanded_url': u'http://4unow.net/freegirts', u'display_url': u'4unow.net/freegirts'}]}, u'description': {u'urls': []}}, followers_count=567, protected=False, id_str=u'754880124563038208', default_profile_image=False, listed_count=170, lang=u'en-gb', utc_offset=-25200, statuses_count=386, description=u'bringing people a better understanding of a particular field you are interested #data #data #bigdata #SQL', friends_count=282, profile_link_color=u'981CEB', profile_image_url=u'http://pbs.twimg.com/profile_images/754894062759530500/W7Q1c3Wm_normal.jpg', notifications=None, profile_background_image_url_https=u'https://abs.twimg.com/images/themes/theme1/bg.png', profile_background_color=u'000000', profile_banner_url=u'https://pbs.twimg.com/profile_banners/754880124563038208/1468815296', profile_background_image_url=u'http://abs.twimg.com/images/themes/theme1/bg.png', name=u'Database', is_translation_enabled=False, profile_background_tile=False, favourites_count=1, screen_name=u'Data3se', url=u'https://t.co/uUS9I1lUM4', created_at=datetime.datetime(2016, 7, 18, 3, 27, 1), contributors_enabled=False, location=u'United States', profile_sidebar_border_color=u'000000', default_profile=False, following=False), geo=None, in_reply_to_user_id_str=None, possibly_sensitive=False, lang=u'en', created_at=datetime.datetime(2016, 9, 10, 4, 6, 9), in_reply_to_status_id_str=None, place=None, source=u'IFTTT', retweeted=False, metadata={u'iso_language_code': u'en', u'result_type': u'recent'})>\n",
      "\n",
      "source : IFTTT\n",
      "\n",
      "source_url : http://ifttt.com\n",
      "\n",
      "text : #data #seo The Best Infographics of 2015 https://t.co/bt9IsTLlM9\n",
      "\n",
      "truncated : False\n",
      "\n",
      "user : User(follow_request_sent=None, has_extended_profile=False, profile_use_background_image=False, _json={u'follow_request_sent': None, u'has_extended_profile': False, u'profile_use_background_image': False, u'default_profile_image': False, u'id': 754880124563038208, u'profile_background_image_url_https': u'https://abs.twimg.com/images/themes/theme1/bg.png', u'verified': False, u'profile_text_color': u'000000', u'profile_image_url_https': u'https://pbs.twimg.com/profile_images/754894062759530500/W7Q1c3Wm_normal.jpg', u'profile_sidebar_fill_color': u'000000', u'entities': {u'url': {u'urls': [{u'url': u'https://t.co/uUS9I1lUM4', u'indices': [0, 23], u'expanded_url': u'http://4unow.net/freegirts', u'display_url': u'4unow.net/freegirts'}]}, u'description': {u'urls': []}}, u'followers_count': 567, u'profile_sidebar_border_color': u'000000', u'id_str': u'754880124563038208', u'profile_background_color': u'000000', u'listed_count': 170, u'is_translation_enabled': False, u'utc_offset': -25200, u'statuses_count': 386, u'description': u'bringing people a better understanding of a particular field you are interested #data #data #bigdata #SQL', u'friends_count': 282, u'location': u'United States', u'profile_link_color': u'981CEB', u'profile_image_url': u'http://pbs.twimg.com/profile_images/754894062759530500/W7Q1c3Wm_normal.jpg', u'following': None, u'geo_enabled': False, u'profile_banner_url': u'https://pbs.twimg.com/profile_banners/754880124563038208/1468815296', u'profile_background_image_url': u'http://abs.twimg.com/images/themes/theme1/bg.png', u'screen_name': u'Data3se', u'lang': u'en-gb', u'profile_background_tile': False, u'favourites_count': 1, u'name': u'Database', u'notifications': None, u'url': u'https://t.co/uUS9I1lUM4', u'created_at': u'Mon Jul 18 03:27:01 +0000 2016', u'contributors_enabled': False, u'time_zone': u'Pacific Time (US & Canada)', u'protected': False, u'default_profile': False, u'is_translator': False}, time_zone=u'Pacific Time (US & Canada)', id=754880124563038208, _api=<tweepy.api.API object at 0x10c444290>, verified=False, profile_text_color=u'000000', profile_image_url_https=u'https://pbs.twimg.com/profile_images/754894062759530500/W7Q1c3Wm_normal.jpg', profile_sidebar_fill_color=u'000000', is_translator=False, geo_enabled=False, entities={u'url': {u'urls': [{u'url': u'https://t.co/uUS9I1lUM4', u'indices': [0, 23], u'expanded_url': u'http://4unow.net/freegirts', u'display_url': u'4unow.net/freegirts'}]}, u'description': {u'urls': []}}, followers_count=567, protected=False, id_str=u'754880124563038208', default_profile_image=False, listed_count=170, lang=u'en-gb', utc_offset=-25200, statuses_count=386, description=u'bringing people a better understanding of a particular field you are interested #data #data #bigdata #SQL', friends_count=282, profile_link_color=u'981CEB', profile_image_url=u'http://pbs.twimg.com/profile_images/754894062759530500/W7Q1c3Wm_normal.jpg', notifications=None, profile_background_image_url_https=u'https://abs.twimg.com/images/themes/theme1/bg.png', profile_background_color=u'000000', profile_banner_url=u'https://pbs.twimg.com/profile_banners/754880124563038208/1468815296', profile_background_image_url=u'http://abs.twimg.com/images/themes/theme1/bg.png', name=u'Database', is_translation_enabled=False, profile_background_tile=False, favourites_count=1, screen_name=u'Data3se', url=u'https://t.co/uUS9I1lUM4', created_at=datetime.datetime(2016, 7, 18, 3, 27, 1), contributors_enabled=False, location=u'United States', profile_sidebar_border_color=u'000000', default_profile=False, following=False)\n",
      "\n"
     ]
    }
   ],
   "source": [
    "tweet = result[0] #Get the first tweet in the result\n",
    "\n",
    "# Let's look at the tweet payload for the attributes \n",
    "# excluding hidden attributes (those that don't start with \"_\")\n",
    "\n",
    "for param in dir(tweet):\n",
    "    if not param.startswith(\"_\"):\n",
    "        print \"%s : %s\\n\" % (param, eval('tweet.'+param))\n"
   ]
  },
  {
   "cell_type": "markdown",
   "metadata": {},
   "source": [
    "### Let's play with Sentiment Analysis. I'm going to pick something controversial. Let's try \"#Trump2016\""
   ]
  },
  {
   "cell_type": "code",
   "execution_count": 27,
   "metadata": {
    "collapsed": false
   },
   "outputs": [
    {
     "name": "stdout",
     "output_type": "stream",
     "text": [
      "2000\n"
     ]
    }
   ],
   "source": [
    "# gather tweets about something controversial: #Trump2016\n",
    "results = []\n",
    "\n",
    "#Get the first 2000 items based on the search query\n",
    "for tweet in tweepy.Cursor(api.search, q='%23Trump').items(2000):\n",
    "    results.append(tweet.text)\n",
    "\n",
    "# Verify the number of items returned\n",
    "print len(results)"
   ]
  },
  {
   "cell_type": "code",
   "execution_count": 28,
   "metadata": {
    "collapsed": false
   },
   "outputs": [],
   "source": [
    "# Convert into a pandas dataframe & rename column\n",
    "df = pd.DataFrame(results)\n",
    "df = df.rename(columns={0: 'text'})"
   ]
  },
  {
   "cell_type": "code",
   "execution_count": 29,
   "metadata": {
    "collapsed": true
   },
   "outputs": [],
   "source": [
    "# Instantiate TextBlob on tweet text & record sentiment scores\n",
    "df['polarity'] = df['text'].apply(lambda x: TextBlob(x).sentiment.polarity)\n",
    "df['subjectivity'] = df['text'].apply(lambda x: TextBlob(x).sentiment.subjectivity)"
   ]
  },
  {
   "cell_type": "code",
   "execution_count": 30,
   "metadata": {
    "collapsed": false
   },
   "outputs": [
    {
     "data": {
      "text/html": [
       "<div>\n",
       "<table border=\"1\" class=\"dataframe\">\n",
       "  <thead>\n",
       "    <tr style=\"text-align: right;\">\n",
       "      <th></th>\n",
       "      <th>text</th>\n",
       "      <th>polarity</th>\n",
       "      <th>subjectivity</th>\n",
       "    </tr>\n",
       "  </thead>\n",
       "  <tbody>\n",
       "    <tr>\n",
       "      <th>0</th>\n",
       "      <td>Trump rips media for mocking Christians https:...</td>\n",
       "      <td>0.000000</td>\n",
       "      <td>0.000000</td>\n",
       "    </tr>\n",
       "    <tr>\n",
       "      <th>1</th>\n",
       "      <td>RT @RonSantoFan: Nothing more Presidential tha...</td>\n",
       "      <td>0.000000</td>\n",
       "      <td>0.666667</td>\n",
       "    </tr>\n",
       "    <tr>\n",
       "      <th>2</th>\n",
       "      <td>RT @bfraser747: 💥💥 #WakeUpAmerica\\n\\nWe cann...</td>\n",
       "      <td>-0.133333</td>\n",
       "      <td>0.533333</td>\n",
       "    </tr>\n",
       "    <tr>\n",
       "      <th>3</th>\n",
       "      <td>RT @the_other_kimk: When #Trump's hateful rhet...</td>\n",
       "      <td>0.000000</td>\n",
       "      <td>0.100000</td>\n",
       "    </tr>\n",
       "    <tr>\n",
       "      <th>4</th>\n",
       "      <td>Democrats wonder and worry: Why isn’t Clinton ...</td>\n",
       "      <td>0.100000</td>\n",
       "      <td>1.000000</td>\n",
       "    </tr>\n",
       "  </tbody>\n",
       "</table>\n",
       "</div>"
      ],
      "text/plain": [
       "                                                text  polarity  subjectivity\n",
       "0  Trump rips media for mocking Christians https:...  0.000000      0.000000\n",
       "1  RT @RonSantoFan: Nothing more Presidential tha...  0.000000      0.666667\n",
       "2  RT @bfraser747: 💥💥 #WakeUpAmerica\\n\\nWe cann... -0.133333      0.533333\n",
       "3  RT @the_other_kimk: When #Trump's hateful rhet...  0.000000      0.100000\n",
       "4  Democrats wonder and worry: Why isn’t Clinton ...  0.100000      1.000000"
      ]
     },
     "execution_count": 30,
     "metadata": {},
     "output_type": "execute_result"
    }
   ],
   "source": [
    "df.head()"
   ]
  },
  {
   "cell_type": "code",
   "execution_count": 31,
   "metadata": {
    "collapsed": false,
    "scrolled": false
   },
   "outputs": [
    {
     "data": {
      "text/plain": [
       "<matplotlib.text.Text at 0x11563add0>"
      ]
     },
     "execution_count": 31,
     "metadata": {},
     "output_type": "execute_result"
    },
    {
     "data": {
      "image/png": "[encoded data removed]",
      "text/plain": [
       "<matplotlib.figure.Figure at 0x11558ae10>"
      ]
     },
     "metadata": {},
     "output_type": "display_data"
    }
   ],
   "source": [
    "# Plot a histogram\n",
    "f, axes = plt.subplots(1, 1, figsize=(10, 6))\n",
    "sns.distplot(df['polarity'], kde=False, bins=20)\n",
    "# plt.ylim([0, 100])\n",
    "plt.ylabel('count')\n",
    "plt.title('Polarity for \"#Trump\"')\n"
   ]
  },
  {
   "cell_type": "code",
   "execution_count": null,
   "metadata": {
    "collapsed": true
   },
   "outputs": [],
   "source": []
  },
  {
   "cell_type": "code",
   "execution_count": 18,
   "metadata": {
    "collapsed": false
   },
   "outputs": [
    {
     "data": {
      "text/plain": [
       "<matplotlib.text.Text at 0x115c51710>"
      ]
     },
     "execution_count": 18,
     "metadata": {},
     "output_type": "execute_result"
    },
    {
     "data": {
      "image/png": "[encoded data removed]",
      "text/plain": [
       "<matplotlib.figure.Figure at 0x1135e0f50>"
      ]
     },
     "metadata": {},
     "output_type": "display_data"
    }
   ],
   "source": [
    "# looking at individual tweet polarities\n",
    "plt.barh(xrange(0,2000), df['polarity'], color='k')\n",
    "plt.xlabel('Sentiment Polarity')\n",
    "plt.ylabel('index of tweet')"
   ]
  },
  {
   "cell_type": "code",
   "execution_count": null,
   "metadata": {
    "collapsed": true
   },
   "outputs": [],
   "source": []
  },
  {
   "cell_type": "code",
   "execution_count": 19,
   "metadata": {
    "collapsed": false
   },
   "outputs": [],
   "source": [
    "# bin & average data into low, middle, high polarities\n",
    "high_polarity = df[df['polarity']>0.3]\n",
    "mid_polarity = df[(df['polarity']<0.3) & (df['polarity']>-0.3)]\n",
    "low_polarity = df[df['polarity']<-0.3]"
   ]
  },
  {
   "cell_type": "code",
   "execution_count": 20,
   "metadata": {
    "collapsed": false
   },
   "outputs": [
    {
     "name": "stdout",
     "output_type": "stream",
     "text": [
      "111\n",
      "1547\n",
      "310\n"
     ]
    }
   ],
   "source": [
    "# check counts\n",
    "print len(low_polarity)\n",
    "print len(mid_polarity)\n",
    "print len(high_polarity)"
   ]
  },
  {
   "cell_type": "code",
   "execution_count": 21,
   "metadata": {
    "collapsed": false
   },
   "outputs": [
    {
     "name": "stdout",
     "output_type": "stream",
     "text": [
      "-63.2158224263\n",
      "188.120305736\n"
     ]
    }
   ],
   "source": [
    "# Show the weighted mean polarities of the extremes\n",
    "# Take average polarity and multiply by # of tweets in that polarity bucket\n",
    "print np.mean(low_polarity['polarity'])*len(low_polarity)\n",
    "print np.mean(high_polarity['polarity'])*len(high_polarity)"
   ]
  },
  {
   "cell_type": "markdown",
   "metadata": {},
   "source": [
    "### Let's try something people feel pretty strongly about one way or another.\n",
    "### Puppies: everyone likes them, right?\n"
   ]
  },
  {
   "cell_type": "code",
   "execution_count": 22,
   "metadata": {
    "collapsed": true
   },
   "outputs": [],
   "source": [
    "# gather tweets about something everyone likes: #puppy\n",
    "results2 = []\n",
    "\n",
    "#Get the first 2000 items based on the search query\n",
    "for tweet in tweepy.Cursor(api.search, q='%23puppy').items(2000):\n",
    "    results2.append(tweet.text)"
   ]
  },
  {
   "cell_type": "code",
   "execution_count": 23,
   "metadata": {
    "collapsed": false
   },
   "outputs": [
    {
     "data": {
      "text/plain": [
       "(-1, 1)"
      ]
     },
     "execution_count": 23,
     "metadata": {},
     "output_type": "execute_result"
    },
    {
     "data": {
      "image/png": "[encoded data removed]",
      "text/plain": [
       "<matplotlib.figure.Figure at 0x11a0bc0d0>"
      ]
     },
     "metadata": {},
     "output_type": "display_data"
    }
   ],
   "source": [
    "# Convert into a pandas dataframe & rename column\n",
    "df2 = pd.DataFrame(results2)\n",
    "df2 = df2.rename(columns={0: 'text'})\n",
    "# Instantiate TextBlob on tweet text & record sentiment scores\n",
    "df2['polarity'] = df2['text'].apply(lambda x: TextBlob(x).sentiment.polarity)\n",
    "df2['subjectivity'] = df2['text'].apply(lambda x: TextBlob(x).sentiment.subjectivity)\n",
    "# Plot a histogram\n",
    "f, axes = plt.subplots(1, 1, figsize=(10, 6))\n",
    "sns.distplot(df2['polarity'], kde=False, bins = 20)\n",
    "# plt.ylim([0, 100])\n",
    "plt.ylabel('count')\n",
    "plt.title('Polarity for \"#puppy\"')\n",
    "plt.xlim([-1, 1])"
   ]
  },
  {
   "cell_type": "markdown",
   "metadata": {},
   "source": [
    "### Again, most of the tweets are near 0 polarity. But, the distribution is skewed distinctly to the positive side, indicating that yes, more people like puppies than dislike them."
   ]
  },
  {
   "cell_type": "code",
   "execution_count": 24,
   "metadata": {
    "collapsed": false
   },
   "outputs": [
    {
     "name": "stdout",
     "output_type": "stream",
     "text": [
      "The weighted mean low polarity is: -24.3401041667\n",
      "The weighted mean high polarity is: 323.844950284\n"
     ]
    }
   ],
   "source": [
    "# bin & average data into low, middle, high polarities\n",
    "high_polarity = df2[df2['polarity']>0.3]\n",
    "mid_polarity = df2[(df2['polarity']<0.3) & (df2['polarity']>-0.3)]\n",
    "low_polarity = df2[df2['polarity']<-0.3]\n",
    "# # check counts\n",
    "# print len(low_polarity)\n",
    "# print len(mid_polarity)\n",
    "# print len(high_polarity)\n",
    "# Show the mean polarities of the extremes\n",
    "print(\"The weighted mean low polarity is: {0}\".format(np.mean(low_polarity['polarity'])*len(low_polarity)))\n",
    "print(\"The weighted mean high polarity is: {0}\".format(np.mean(high_polarity['polarity'])*len(high_polarity)))"
   ]
  },
  {
   "cell_type": "code",
   "execution_count": 33,
   "metadata": {
    "collapsed": false
   },
   "outputs": [
    {
     "data": {
      "text/plain": [
       "text            😎😎😎😎😂😂😂😂😂😂😂 #sleep #mylove #cucciol...\n",
       "polarity                                                        1\n",
       "subjectivity                                                    1\n",
       "dtype: object"
      ]
     },
     "execution_count": 33,
     "metadata": {},
     "output_type": "execute_result"
    }
   ],
   "source": [
    "df2.max()"
   ]
  },
  {
   "cell_type": "markdown",
   "metadata": {},
   "source": [
    "### Yes, most people do indeed like puppies. "
   ]
  },
  {
   "cell_type": "code",
   "execution_count": null,
   "metadata": {
    "collapsed": true
   },
   "outputs": [],
   "source": []
  }
 ],
 "metadata": {
  "kernelspec": {
   "display_name": "Python 2",
   "language": "python",
   "name": "python2"
  },
  "language_info": {
   "codemirror_mode": {
    "name": "ipython",
    "version": 2
   },
   "file_extension": ".py",
   "mimetype": "text/x-python",
   "name": "python",
   "nbconvert_exporter": "python",
   "pygments_lexer": "ipython2",
   "version": "2.7.11"
  }
 },
 "nbformat": 4,
 "nbformat_minor": 0
}
